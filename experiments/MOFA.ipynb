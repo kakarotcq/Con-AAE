{
 "cells": [
  {
   "cell_type": "code",
   "execution_count": 1,
   "id": "327f967c",
   "metadata": {},
   "outputs": [
    {
     "name": "stdout",
     "output_type": "stream",
     "text": [
      "\n",
      "        #########################################################\n",
      "        ###           __  __  ____  ______                    ### \n",
      "        ###          |  \\/  |/ __ \\|  ____/\\    _             ### \n",
      "        ###          | \\  / | |  | | |__ /  \\ _| |_           ### \n",
      "        ###          | |\\/| | |  | |  __/ /\\ \\_   _|          ###\n",
      "        ###          | |  | | |__| | | / ____ \\|_|            ###\n",
      "        ###          |_|  |_|\\____/|_|/_/    \\_\\              ###\n",
      "        ###                                                   ### \n",
      "        ######################################################### \n",
      "       \n",
      " \n",
      "        \n"
     ]
    }
   ],
   "source": [
    "from mofapy2.run.entry_point import entry_point\n",
    "import pandas as pd\n",
    "import numpy as np\n",
    "\n",
    "# initialise the entry point\n",
    "ent = entry_point()"
   ]
  },
  {
   "cell_type": "code",
   "execution_count": 2,
   "id": "a09e4fd9",
   "metadata": {},
   "outputs": [],
   "source": [
    "data_tr1 = pd.read_csv('~/major_revision/RNA-Seq-and-ATAC-Seq-mapping/data/SHARE/rna.csv', index_col=0)\n",
    "#data_tr1 = data_tr1.T[1:]\n",
    "#data_tr1.iloc[:, 1:].to_csv('SNARE1.csv', header= None, index = False)"
   ]
  },
  {
   "cell_type": "code",
   "execution_count": 3,
   "id": "c551ecf2",
   "metadata": {},
   "outputs": [
    {
     "data": {
      "text/html": [
       "<div>\n",
       "<style scoped>\n",
       "    .dataframe tbody tr th:only-of-type {\n",
       "        vertical-align: middle;\n",
       "    }\n",
       "\n",
       "    .dataframe tbody tr th {\n",
       "        vertical-align: top;\n",
       "    }\n",
       "\n",
       "    .dataframe thead th {\n",
       "        text-align: right;\n",
       "    }\n",
       "</style>\n",
       "<table border=\"1\" class=\"dataframe\">\n",
       "  <thead>\n",
       "    <tr style=\"text-align: right;\">\n",
       "      <th></th>\n",
       "      <th>0</th>\n",
       "      <th>1</th>\n",
       "      <th>2</th>\n",
       "      <th>3</th>\n",
       "      <th>4</th>\n",
       "      <th>5</th>\n",
       "      <th>6</th>\n",
       "      <th>7</th>\n",
       "      <th>8</th>\n",
       "      <th>9</th>\n",
       "      <th>...</th>\n",
       "      <th>1990</th>\n",
       "      <th>1991</th>\n",
       "      <th>1992</th>\n",
       "      <th>1993</th>\n",
       "      <th>1994</th>\n",
       "      <th>1995</th>\n",
       "      <th>1996</th>\n",
       "      <th>1997</th>\n",
       "      <th>1998</th>\n",
       "      <th>1999</th>\n",
       "    </tr>\n",
       "  </thead>\n",
       "  <tbody>\n",
       "    <tr>\n",
       "      <th>23723</th>\n",
       "      <td>-61.130859</td>\n",
       "      <td>38.504247</td>\n",
       "      <td>-9.763195</td>\n",
       "      <td>3.368536</td>\n",
       "      <td>-2.100261</td>\n",
       "      <td>-1.415588</td>\n",
       "      <td>-1.484844</td>\n",
       "      <td>-2.397882</td>\n",
       "      <td>0.359921</td>\n",
       "      <td>0.497522</td>\n",
       "      <td>...</td>\n",
       "      <td>-0.578307</td>\n",
       "      <td>-0.924156</td>\n",
       "      <td>-0.105320</td>\n",
       "      <td>0.048154</td>\n",
       "      <td>-0.513186</td>\n",
       "      <td>-0.011152</td>\n",
       "      <td>0.239488</td>\n",
       "      <td>0.103486</td>\n",
       "      <td>-0.024184</td>\n",
       "      <td>0.009890</td>\n",
       "    </tr>\n",
       "    <tr>\n",
       "      <th>21074</th>\n",
       "      <td>-5.067646</td>\n",
       "      <td>-10.151869</td>\n",
       "      <td>36.409500</td>\n",
       "      <td>-10.068049</td>\n",
       "      <td>-8.572700</td>\n",
       "      <td>-10.037497</td>\n",
       "      <td>4.101301</td>\n",
       "      <td>-0.874192</td>\n",
       "      <td>-3.298828</td>\n",
       "      <td>2.770080</td>\n",
       "      <td>...</td>\n",
       "      <td>0.369524</td>\n",
       "      <td>-0.072278</td>\n",
       "      <td>-0.362403</td>\n",
       "      <td>-0.019199</td>\n",
       "      <td>-0.439970</td>\n",
       "      <td>-0.088628</td>\n",
       "      <td>-0.050697</td>\n",
       "      <td>0.030750</td>\n",
       "      <td>0.190836</td>\n",
       "      <td>-0.725803</td>\n",
       "    </tr>\n",
       "    <tr>\n",
       "      <th>1960</th>\n",
       "      <td>-128.129268</td>\n",
       "      <td>-14.380548</td>\n",
       "      <td>12.551625</td>\n",
       "      <td>-1.324452</td>\n",
       "      <td>1.591208</td>\n",
       "      <td>-1.178508</td>\n",
       "      <td>7.849835</td>\n",
       "      <td>8.736559</td>\n",
       "      <td>0.551107</td>\n",
       "      <td>-2.325123</td>\n",
       "      <td>...</td>\n",
       "      <td>0.124504</td>\n",
       "      <td>-0.045885</td>\n",
       "      <td>-0.329317</td>\n",
       "      <td>0.048868</td>\n",
       "      <td>-0.112539</td>\n",
       "      <td>0.052946</td>\n",
       "      <td>-0.544458</td>\n",
       "      <td>-0.223746</td>\n",
       "      <td>-0.102904</td>\n",
       "      <td>0.195122</td>\n",
       "    </tr>\n",
       "    <tr>\n",
       "      <th>18631</th>\n",
       "      <td>-70.007910</td>\n",
       "      <td>23.847330</td>\n",
       "      <td>-10.645576</td>\n",
       "      <td>18.396602</td>\n",
       "      <td>-12.220852</td>\n",
       "      <td>-9.534872</td>\n",
       "      <td>4.655862</td>\n",
       "      <td>-2.255486</td>\n",
       "      <td>-6.123385</td>\n",
       "      <td>8.310494</td>\n",
       "      <td>...</td>\n",
       "      <td>-0.052427</td>\n",
       "      <td>-0.184082</td>\n",
       "      <td>0.171350</td>\n",
       "      <td>-0.157871</td>\n",
       "      <td>0.100893</td>\n",
       "      <td>-0.514709</td>\n",
       "      <td>-0.040135</td>\n",
       "      <td>-0.010788</td>\n",
       "      <td>-0.343676</td>\n",
       "      <td>-0.175380</td>\n",
       "    </tr>\n",
       "    <tr>\n",
       "      <th>16396</th>\n",
       "      <td>-127.429222</td>\n",
       "      <td>-1.096321</td>\n",
       "      <td>5.052821</td>\n",
       "      <td>-2.739621</td>\n",
       "      <td>-1.435111</td>\n",
       "      <td>-2.631060</td>\n",
       "      <td>0.979452</td>\n",
       "      <td>-1.029373</td>\n",
       "      <td>-2.706580</td>\n",
       "      <td>5.186086</td>\n",
       "      <td>...</td>\n",
       "      <td>0.019743</td>\n",
       "      <td>0.165887</td>\n",
       "      <td>-0.223488</td>\n",
       "      <td>-0.094558</td>\n",
       "      <td>-0.231363</td>\n",
       "      <td>-0.113630</td>\n",
       "      <td>-0.125917</td>\n",
       "      <td>0.345367</td>\n",
       "      <td>0.338919</td>\n",
       "      <td>0.039556</td>\n",
       "    </tr>\n",
       "    <tr>\n",
       "      <th>...</th>\n",
       "      <td>...</td>\n",
       "      <td>...</td>\n",
       "      <td>...</td>\n",
       "      <td>...</td>\n",
       "      <td>...</td>\n",
       "      <td>...</td>\n",
       "      <td>...</td>\n",
       "      <td>...</td>\n",
       "      <td>...</td>\n",
       "      <td>...</td>\n",
       "      <td>...</td>\n",
       "      <td>...</td>\n",
       "      <td>...</td>\n",
       "      <td>...</td>\n",
       "      <td>...</td>\n",
       "      <td>...</td>\n",
       "      <td>...</td>\n",
       "      <td>...</td>\n",
       "      <td>...</td>\n",
       "      <td>...</td>\n",
       "      <td>...</td>\n",
       "    </tr>\n",
       "    <tr>\n",
       "      <th>20356</th>\n",
       "      <td>-32.876859</td>\n",
       "      <td>2.161105</td>\n",
       "      <td>17.123272</td>\n",
       "      <td>-5.033564</td>\n",
       "      <td>-3.060661</td>\n",
       "      <td>8.197550</td>\n",
       "      <td>-11.796608</td>\n",
       "      <td>1.531133</td>\n",
       "      <td>-0.690533</td>\n",
       "      <td>1.735095</td>\n",
       "      <td>...</td>\n",
       "      <td>0.914891</td>\n",
       "      <td>0.037871</td>\n",
       "      <td>-0.201809</td>\n",
       "      <td>-0.771109</td>\n",
       "      <td>0.488070</td>\n",
       "      <td>-0.289163</td>\n",
       "      <td>-0.153392</td>\n",
       "      <td>-0.121907</td>\n",
       "      <td>-0.381406</td>\n",
       "      <td>0.177496</td>\n",
       "    </tr>\n",
       "    <tr>\n",
       "      <th>17620</th>\n",
       "      <td>-99.231088</td>\n",
       "      <td>-21.908281</td>\n",
       "      <td>-1.140882</td>\n",
       "      <td>-4.715527</td>\n",
       "      <td>9.358116</td>\n",
       "      <td>-1.944816</td>\n",
       "      <td>0.622318</td>\n",
       "      <td>-5.541094</td>\n",
       "      <td>0.201298</td>\n",
       "      <td>1.133065</td>\n",
       "      <td>...</td>\n",
       "      <td>-0.026848</td>\n",
       "      <td>0.192201</td>\n",
       "      <td>-0.080463</td>\n",
       "      <td>-0.111427</td>\n",
       "      <td>0.076519</td>\n",
       "      <td>0.006887</td>\n",
       "      <td>-0.168760</td>\n",
       "      <td>-0.161457</td>\n",
       "      <td>0.071441</td>\n",
       "      <td>0.257610</td>\n",
       "    </tr>\n",
       "    <tr>\n",
       "      <th>7194</th>\n",
       "      <td>-5.051250</td>\n",
       "      <td>23.552325</td>\n",
       "      <td>25.123824</td>\n",
       "      <td>-11.520167</td>\n",
       "      <td>-9.447717</td>\n",
       "      <td>-2.380416</td>\n",
       "      <td>-1.799635</td>\n",
       "      <td>-1.691086</td>\n",
       "      <td>-3.325122</td>\n",
       "      <td>2.506787</td>\n",
       "      <td>...</td>\n",
       "      <td>0.176907</td>\n",
       "      <td>0.323287</td>\n",
       "      <td>-0.905335</td>\n",
       "      <td>-0.282157</td>\n",
       "      <td>-0.228381</td>\n",
       "      <td>-0.128190</td>\n",
       "      <td>0.144248</td>\n",
       "      <td>0.360862</td>\n",
       "      <td>0.633690</td>\n",
       "      <td>0.099203</td>\n",
       "    </tr>\n",
       "    <tr>\n",
       "      <th>2603</th>\n",
       "      <td>-137.412357</td>\n",
       "      <td>8.676449</td>\n",
       "      <td>-2.219182</td>\n",
       "      <td>-4.884999</td>\n",
       "      <td>0.224561</td>\n",
       "      <td>0.344084</td>\n",
       "      <td>-0.432971</td>\n",
       "      <td>2.101811</td>\n",
       "      <td>2.467372</td>\n",
       "      <td>-2.124631</td>\n",
       "      <td>...</td>\n",
       "      <td>0.582805</td>\n",
       "      <td>0.218143</td>\n",
       "      <td>0.396875</td>\n",
       "      <td>0.098099</td>\n",
       "      <td>-0.135844</td>\n",
       "      <td>0.199095</td>\n",
       "      <td>-0.372602</td>\n",
       "      <td>0.340596</td>\n",
       "      <td>0.135819</td>\n",
       "      <td>-0.221418</td>\n",
       "    </tr>\n",
       "    <tr>\n",
       "      <th>8904</th>\n",
       "      <td>-129.428089</td>\n",
       "      <td>0.950703</td>\n",
       "      <td>3.337499</td>\n",
       "      <td>7.456916</td>\n",
       "      <td>2.825065</td>\n",
       "      <td>-2.078457</td>\n",
       "      <td>-1.486872</td>\n",
       "      <td>-5.918533</td>\n",
       "      <td>0.717105</td>\n",
       "      <td>-0.491080</td>\n",
       "      <td>...</td>\n",
       "      <td>0.092335</td>\n",
       "      <td>-0.057546</td>\n",
       "      <td>0.279463</td>\n",
       "      <td>0.143758</td>\n",
       "      <td>-0.100102</td>\n",
       "      <td>-0.070248</td>\n",
       "      <td>-0.266034</td>\n",
       "      <td>0.094724</td>\n",
       "      <td>-0.052942</td>\n",
       "      <td>-0.045709</td>\n",
       "    </tr>\n",
       "  </tbody>\n",
       "</table>\n",
       "<p>34774 rows × 2000 columns</p>\n",
       "</div>"
      ],
      "text/plain": [
       "                0          1          2          3          4          5  \\\n",
       "23723  -61.130859  38.504247  -9.763195   3.368536  -2.100261  -1.415588   \n",
       "21074   -5.067646 -10.151869  36.409500 -10.068049  -8.572700 -10.037497   \n",
       "1960  -128.129268 -14.380548  12.551625  -1.324452   1.591208  -1.178508   \n",
       "18631  -70.007910  23.847330 -10.645576  18.396602 -12.220852  -9.534872   \n",
       "16396 -127.429222  -1.096321   5.052821  -2.739621  -1.435111  -2.631060   \n",
       "...           ...        ...        ...        ...        ...        ...   \n",
       "20356  -32.876859   2.161105  17.123272  -5.033564  -3.060661   8.197550   \n",
       "17620  -99.231088 -21.908281  -1.140882  -4.715527   9.358116  -1.944816   \n",
       "7194    -5.051250  23.552325  25.123824 -11.520167  -9.447717  -2.380416   \n",
       "2603  -137.412357   8.676449  -2.219182  -4.884999   0.224561   0.344084   \n",
       "8904  -129.428089   0.950703   3.337499   7.456916   2.825065  -2.078457   \n",
       "\n",
       "               6         7         8         9  ...      1990      1991  \\\n",
       "23723  -1.484844 -2.397882  0.359921  0.497522  ... -0.578307 -0.924156   \n",
       "21074   4.101301 -0.874192 -3.298828  2.770080  ...  0.369524 -0.072278   \n",
       "1960    7.849835  8.736559  0.551107 -2.325123  ...  0.124504 -0.045885   \n",
       "18631   4.655862 -2.255486 -6.123385  8.310494  ... -0.052427 -0.184082   \n",
       "16396   0.979452 -1.029373 -2.706580  5.186086  ...  0.019743  0.165887   \n",
       "...          ...       ...       ...       ...  ...       ...       ...   \n",
       "20356 -11.796608  1.531133 -0.690533  1.735095  ...  0.914891  0.037871   \n",
       "17620   0.622318 -5.541094  0.201298  1.133065  ... -0.026848  0.192201   \n",
       "7194   -1.799635 -1.691086 -3.325122  2.506787  ...  0.176907  0.323287   \n",
       "2603   -0.432971  2.101811  2.467372 -2.124631  ...  0.582805  0.218143   \n",
       "8904   -1.486872 -5.918533  0.717105 -0.491080  ...  0.092335 -0.057546   \n",
       "\n",
       "           1992      1993      1994      1995      1996      1997      1998  \\\n",
       "23723 -0.105320  0.048154 -0.513186 -0.011152  0.239488  0.103486 -0.024184   \n",
       "21074 -0.362403 -0.019199 -0.439970 -0.088628 -0.050697  0.030750  0.190836   \n",
       "1960  -0.329317  0.048868 -0.112539  0.052946 -0.544458 -0.223746 -0.102904   \n",
       "18631  0.171350 -0.157871  0.100893 -0.514709 -0.040135 -0.010788 -0.343676   \n",
       "16396 -0.223488 -0.094558 -0.231363 -0.113630 -0.125917  0.345367  0.338919   \n",
       "...         ...       ...       ...       ...       ...       ...       ...   \n",
       "20356 -0.201809 -0.771109  0.488070 -0.289163 -0.153392 -0.121907 -0.381406   \n",
       "17620 -0.080463 -0.111427  0.076519  0.006887 -0.168760 -0.161457  0.071441   \n",
       "7194  -0.905335 -0.282157 -0.228381 -0.128190  0.144248  0.360862  0.633690   \n",
       "2603   0.396875  0.098099 -0.135844  0.199095 -0.372602  0.340596  0.135819   \n",
       "8904   0.279463  0.143758 -0.100102 -0.070248 -0.266034  0.094724 -0.052942   \n",
       "\n",
       "           1999  \n",
       "23723  0.009890  \n",
       "21074 -0.725803  \n",
       "1960   0.195122  \n",
       "18631 -0.175380  \n",
       "16396  0.039556  \n",
       "...         ...  \n",
       "20356  0.177496  \n",
       "17620  0.257610  \n",
       "7194   0.099203  \n",
       "2603  -0.221418  \n",
       "8904  -0.045709  \n",
       "\n",
       "[34774 rows x 2000 columns]"
      ]
     },
     "execution_count": 3,
     "metadata": {},
     "output_type": "execute_result"
    }
   ],
   "source": [
    "data_tr1"
   ]
  },
  {
   "cell_type": "code",
   "execution_count": 10,
   "id": "b8d1b698",
   "metadata": {},
   "outputs": [
    {
     "data": {
      "text/html": [
       "<div>\n",
       "<style scoped>\n",
       "    .dataframe tbody tr th:only-of-type {\n",
       "        vertical-align: middle;\n",
       "    }\n",
       "\n",
       "    .dataframe tbody tr th {\n",
       "        vertical-align: top;\n",
       "    }\n",
       "\n",
       "    .dataframe thead th {\n",
       "        text-align: right;\n",
       "    }\n",
       "</style>\n",
       "<table border=\"1\" class=\"dataframe\">\n",
       "  <thead>\n",
       "    <tr style=\"text-align: right;\">\n",
       "      <th></th>\n",
       "      <th>type</th>\n",
       "    </tr>\n",
       "  </thead>\n",
       "  <tbody>\n",
       "    <tr>\n",
       "      <th>23723</th>\n",
       "      <td>12</td>\n",
       "    </tr>\n",
       "    <tr>\n",
       "      <th>21074</th>\n",
       "      <td>11</td>\n",
       "    </tr>\n",
       "    <tr>\n",
       "      <th>1960</th>\n",
       "      <td>2</td>\n",
       "    </tr>\n",
       "    <tr>\n",
       "      <th>18631</th>\n",
       "      <td>11</td>\n",
       "    </tr>\n",
       "    <tr>\n",
       "      <th>16396</th>\n",
       "      <td>10</td>\n",
       "    </tr>\n",
       "    <tr>\n",
       "      <th>...</th>\n",
       "      <td>...</td>\n",
       "    </tr>\n",
       "    <tr>\n",
       "      <th>20356</th>\n",
       "      <td>11</td>\n",
       "    </tr>\n",
       "    <tr>\n",
       "      <th>17620</th>\n",
       "      <td>11</td>\n",
       "    </tr>\n",
       "    <tr>\n",
       "      <th>7194</th>\n",
       "      <td>3</td>\n",
       "    </tr>\n",
       "    <tr>\n",
       "      <th>2603</th>\n",
       "      <td>2</td>\n",
       "    </tr>\n",
       "    <tr>\n",
       "      <th>8904</th>\n",
       "      <td>5</td>\n",
       "    </tr>\n",
       "  </tbody>\n",
       "</table>\n",
       "<p>34774 rows × 1 columns</p>\n",
       "</div>"
      ],
      "text/plain": [
       "       type\n",
       "23723    12\n",
       "21074    11\n",
       "1960      2\n",
       "18631    11\n",
       "16396    10\n",
       "...     ...\n",
       "20356    11\n",
       "17620    11\n",
       "7194      3\n",
       "2603      2\n",
       "8904      5\n",
       "\n",
       "[34774 rows x 1 columns]"
      ]
     },
     "execution_count": 10,
     "metadata": {},
     "output_type": "execute_result"
    }
   ],
   "source": [
    "data_tr2 = pd.read_csv('~/major_revision/RNA-Seq-and-ATAC-Seq-mapping/data/SHARE/label.csv', index_col=0)\n",
    "data_tr2\n",
    "#data_tr2 = data_tr2.T[1:]\n",
    "#data_tr2.iloc[:, 1:].to_csv('SNARE2.csv', header= None, index = False)\n",
    "#data_tr2.iloc[:, 1:]"
   ]
  },
  {
   "cell_type": "code",
   "execution_count": 11,
   "id": "bb4d4f4d",
   "metadata": {},
   "outputs": [
    {
     "data": {
      "text/plain": [
       "34774"
      ]
     },
     "execution_count": 11,
     "metadata": {},
     "output_type": "execute_result"
    }
   ],
   "source": [
    "len(data_tr1)"
   ]
  },
  {
   "cell_type": "code",
   "execution_count": 12,
   "id": "2e429c85",
   "metadata": {},
   "outputs": [],
   "source": [
    "D = [len(data_tr1.columns), len(data_tr2.columns)] # Number of features per view\n",
    "M = len(D)      # Number of views\n",
    "K = 5           # Number of factors\n",
    "N = [len(data_tr1)]   # Number of samples per group\n",
    "G = len(N)"
   ]
  },
  {
   "cell_type": "code",
   "execution_count": 13,
   "id": "5af2ba1f",
   "metadata": {},
   "outputs": [],
   "source": [
    "data_mat = [[None for g in range(G)] for m in range(M)]\n",
    "\n",
    "data_mat[0][0] = np.asarray(data_tr1)\n",
    "data_mat[1][0] = np.asarray(data_tr2)\n",
    "        "
   ]
  },
  {
   "cell_type": "code",
   "execution_count": 14,
   "id": "f1e23443",
   "metadata": {},
   "outputs": [
    {
     "name": "stdout",
     "output_type": "stream",
     "text": [
      "use_float32 set to True: replacing float64 arrays by float32 arrays to speed up computations...\n",
      "\n"
     ]
    }
   ],
   "source": [
    "ent.set_data_options(\n",
    "    scale_groups = False, \n",
    "    scale_views = False\n",
    ")\n"
   ]
  },
  {
   "cell_type": "code",
   "execution_count": 15,
   "id": "76e43560",
   "metadata": {},
   "outputs": [
    {
     "name": "stdout",
     "output_type": "stream",
     "text": [
      "View names not provided, using default naming convention:\n",
      "- view1, view2, ..., viewM\n",
      "\n",
      "Features names not provided, using default naming convention:\n",
      "- feature1_view1, featureD_viewM\n",
      "\n",
      "Groups names not provided, using default naming convention:\n",
      "- group1, group2, ..., groupG\n",
      "\n",
      "Samples names not provided, using default naming convention:\n",
      "- sample1_group1, sample2_group1, sample1_group2, ..., sampleN_groupG\n",
      "\n",
      "Successfully loaded view='view0' group='group0' with N=34774 samples and D=2000 features...\n",
      "Successfully loaded view='view1' group='group0' with N=34774 samples and D=1 features...\n",
      "\n",
      "\n"
     ]
    }
   ],
   "source": [
    "# option 1: data.frame format (slower)\n",
    "#ent.set_data_df(data_dt, likelihoods = [\"gaussian\",\"gaussian\"])\n",
    "\n",
    "# option 2: nested matrix format (faster)\n",
    "ent.set_data_matrix(data_mat, likelihoods = [\"gaussian\",\"gaussian\"])"
   ]
  },
  {
   "cell_type": "code",
   "execution_count": 16,
   "id": "0f5eb897",
   "metadata": {},
   "outputs": [
    {
     "name": "stdout",
     "output_type": "stream",
     "text": [
      "Model options:\n",
      "- Automatic Relevance Determination prior on the factors: True\n",
      "- Automatic Relevance Determination prior on the weights: True\n",
      "- Spike-and-slab prior on the factors: False\n",
      "- Spike-and-slab prior on the weights: True\n",
      "Likelihoods:\n",
      "- View 0 (view0): gaussian\n",
      "- View 1 (view1): gaussian\n",
      "\n",
      "\n"
     ]
    }
   ],
   "source": [
    "ent.set_model_options(\n",
    "    factors = 100, \n",
    "    spikeslab_weights = True, \n",
    "    ard_factors = True,\n",
    "    ard_weights = True\n",
    ")"
   ]
  },
  {
   "cell_type": "code",
   "execution_count": 17,
   "id": "ecb7a073",
   "metadata": {},
   "outputs": [
    {
     "name": "stdout",
     "output_type": "stream",
     "text": [
      "\n",
      "GPU mode is activated, but GPU not found... switching to CPU mode\n",
      "For GPU mode, you need:\n",
      "1 - Make sure that you are running MOFA+ on a machine with an NVIDIA GPU\n",
      "2 - Install CUPY following instructions on https://docs-cupy.chainer.org/en/stable/install.html\n",
      "\n",
      "Warning: actively dropping factors during model training can be slow in large data sets.\n",
      "Consider training the model with set drop_factor_threshold = -1 and prune them a posteriori\n"
     ]
    }
   ],
   "source": [
    "ent.set_train_options(\n",
    "    iter = 1000, \n",
    "    convergence_mode = \"fast\", \n",
    "    startELBO = 1, \n",
    "    freqELBO = 1, \n",
    "    dropR2 = 0.001, \n",
    "    gpu_mode = True, \n",
    "    verbose = False, \n",
    "    seed = 1\n",
    ")"
   ]
  },
  {
   "cell_type": "code",
   "execution_count": 18,
   "id": "b8388981",
   "metadata": {},
   "outputs": [],
   "source": [
    "import time"
   ]
  },
  {
   "cell_type": "code",
   "execution_count": 19,
   "id": "8098380e",
   "metadata": {},
   "outputs": [
    {
     "name": "stdout",
     "output_type": "stream",
     "text": [
      "\n",
      "Warning: some view(s) have less than 15 features, MOFA won't be able to learn meaningful factors for these view(s)...\n",
      "\n",
      "\n",
      "\n",
      "######################################\n",
      "## Training the model with seed 1 ##\n",
      "######################################\n",
      "\n",
      "\n",
      "ELBO before training: -4464567854.62 \n",
      "\n",
      "Iteration 1: time=307.60, ELBO=-56230621.45, deltaELBO=4408337233.161 (98.74051368%), Factors=99\n",
      "Iteration 2: time=291.12, ELBO=-55600956.00, deltaELBO=629665.450 (0.01410361%), Factors=98\n",
      "Iteration 3: time=289.52, ELBO=-55529978.02, deltaELBO=70977.986 (0.00158981%), Factors=97\n",
      "Iteration 4: time=296.89, ELBO=-55505389.47, deltaELBO=24588.544 (0.00055075%), Factors=96\n",
      "Iteration 5: time=293.20, ELBO=-55493291.90, deltaELBO=12097.573 (0.00027097%), Factors=95\n",
      "Iteration 6: time=285.20, ELBO=-55489275.46, deltaELBO=4016.437 (0.00008996%), Factors=94\n",
      "\n",
      "Converged!\n",
      "\n",
      "\n",
      "\n",
      "#######################\n",
      "## Training finished ##\n",
      "#######################\n",
      "\n",
      "\n",
      "Saving model in ./MOFAmodels/tmp.hdf5...\n"
     ]
    },
    {
     "ename": "TypeError",
     "evalue": "_sum() got an unexpected keyword argument 'where'",
     "output_type": "error",
     "traceback": [
      "\u001b[0;31m---------------------------------------------------------------------------\u001b[0m",
      "\u001b[0;31mTypeError\u001b[0m                                 Traceback (most recent call last)",
      "\u001b[0;32m<ipython-input-19-b4e8395acc96>\u001b[0m in \u001b[0;36m<module>\u001b[0;34m\u001b[0m\n\u001b[1;32m      4\u001b[0m \u001b[0mend\u001b[0m\u001b[0;34m=\u001b[0m\u001b[0mtime\u001b[0m\u001b[0;34m.\u001b[0m\u001b[0mtime\u001b[0m\u001b[0;34m(\u001b[0m\u001b[0;34m)\u001b[0m\u001b[0;34m\u001b[0m\u001b[0;34m\u001b[0m\u001b[0m\n\u001b[1;32m      5\u001b[0m \u001b[0;31m# Save the output\u001b[0m\u001b[0;34m\u001b[0m\u001b[0;34m\u001b[0m\u001b[0;34m\u001b[0m\u001b[0m\n\u001b[0;32m----> 6\u001b[0;31m \u001b[0ment\u001b[0m\u001b[0;34m.\u001b[0m\u001b[0msave\u001b[0m\u001b[0;34m(\u001b[0m\u001b[0moutfile\u001b[0m\u001b[0;34m=\u001b[0m\u001b[0;34m'./MOFAmodels/tmp.hdf5'\u001b[0m\u001b[0;34m)\u001b[0m\u001b[0;34m\u001b[0m\u001b[0;34m\u001b[0m\u001b[0m\n\u001b[0m",
      "\u001b[0;32m~/.local/lib/python3.6/site-packages/mofapy2/run/entry_point.py\u001b[0m in \u001b[0;36msave\u001b[0;34m(self, outfile, save_data, save_parameters, expectations)\u001b[0m\n\u001b[1;32m   1232\u001b[0m           \u001b[0msamples_metadata\u001b[0m \u001b[0;34m=\u001b[0m \u001b[0mself\u001b[0m\u001b[0;34m.\u001b[0m\u001b[0mdata_opts\u001b[0m\u001b[0;34m[\u001b[0m\u001b[0;34m\"samples_metadata\"\u001b[0m\u001b[0;34m]\u001b[0m \u001b[0;32mif\u001b[0m \u001b[0;34m\"samples_metadata\"\u001b[0m \u001b[0;32min\u001b[0m \u001b[0mself\u001b[0m\u001b[0;34m.\u001b[0m\u001b[0mdata_opts\u001b[0m \u001b[0;32melse\u001b[0m \u001b[0;32mNone\u001b[0m\u001b[0;34m,\u001b[0m\u001b[0;34m\u001b[0m\u001b[0;34m\u001b[0m\u001b[0m\n\u001b[1;32m   1233\u001b[0m           \u001b[0mfeatures_metadata\u001b[0m \u001b[0;34m=\u001b[0m \u001b[0mself\u001b[0m\u001b[0;34m.\u001b[0m\u001b[0mdata_opts\u001b[0m\u001b[0;34m[\u001b[0m\u001b[0;34m\"features_metadata\"\u001b[0m\u001b[0;34m]\u001b[0m \u001b[0;32mif\u001b[0m \u001b[0;34m\"features_metadata\"\u001b[0m \u001b[0;32min\u001b[0m \u001b[0mself\u001b[0m\u001b[0;34m.\u001b[0m\u001b[0mdata_opts\u001b[0m \u001b[0;32melse\u001b[0m \u001b[0;32mNone\u001b[0m\u001b[0;34m,\u001b[0m\u001b[0;34m\u001b[0m\u001b[0;34m\u001b[0m\u001b[0m\n\u001b[0;32m-> 1234\u001b[0;31m           \u001b[0mcompression_level\u001b[0m \u001b[0;34m=\u001b[0m \u001b[0;36m9\u001b[0m\u001b[0;34m\u001b[0m\u001b[0;34m\u001b[0m\u001b[0m\n\u001b[0m\u001b[1;32m   1235\u001b[0m         )\n\u001b[1;32m   1236\u001b[0m \u001b[0;34m\u001b[0m\u001b[0m\n",
      "\u001b[0;32m~/.local/lib/python3.6/site-packages/mofapy2/build_model/save_model.py\u001b[0m in \u001b[0;36m__init__\u001b[0;34m(self, model, outfile, data, sample_cov, intercepts, samples_groups, train_opts, model_opts, features_names, views_names, samples_names, groups_names, covariates_names, samples_metadata, features_metadata, sort_factors, compression_level)\u001b[0m\n\u001b[1;32m     88\u001b[0m         \u001b[0mself\u001b[0m\u001b[0;34m.\u001b[0m\u001b[0mr2\u001b[0m \u001b[0;34m=\u001b[0m \u001b[0mself\u001b[0m\u001b[0;34m.\u001b[0m\u001b[0mmodel\u001b[0m\u001b[0;34m.\u001b[0m\u001b[0mcalculate_variance_explained\u001b[0m\u001b[0;34m(\u001b[0m\u001b[0;34m)\u001b[0m\u001b[0;34m\u001b[0m\u001b[0;34m\u001b[0m\u001b[0m\n\u001b[1;32m     89\u001b[0m \u001b[0;34m\u001b[0m\u001b[0m\n\u001b[0;32m---> 90\u001b[0;31m         \u001b[0mself\u001b[0m\u001b[0;34m.\u001b[0m\u001b[0morder_factors\u001b[0m \u001b[0;34m=\u001b[0m \u001b[0mself\u001b[0m\u001b[0;34m.\u001b[0m\u001b[0msort_factors\u001b[0m\u001b[0;34m(\u001b[0m\u001b[0msort_factors\u001b[0m\u001b[0;34m)\u001b[0m\u001b[0;34m\u001b[0m\u001b[0;34m\u001b[0m\u001b[0m\n\u001b[0m\u001b[1;32m     91\u001b[0m \u001b[0;34m\u001b[0m\u001b[0m\n\u001b[1;32m     92\u001b[0m     \u001b[0;32mdef\u001b[0m \u001b[0msort_factors\u001b[0m\u001b[0;34m(\u001b[0m\u001b[0mself\u001b[0m\u001b[0;34m,\u001b[0m \u001b[0msort_factors\u001b[0m\u001b[0;34m)\u001b[0m\u001b[0;34m:\u001b[0m\u001b[0;34m\u001b[0m\u001b[0;34m\u001b[0m\u001b[0m\n",
      "\u001b[0;32m~/.local/lib/python3.6/site-packages/mofapy2/build_model/save_model.py\u001b[0m in \u001b[0;36msort_factors\u001b[0;34m(self, sort_factors)\u001b[0m\n\u001b[1;32m     92\u001b[0m     \u001b[0;32mdef\u001b[0m \u001b[0msort_factors\u001b[0m\u001b[0;34m(\u001b[0m\u001b[0mself\u001b[0m\u001b[0;34m,\u001b[0m \u001b[0msort_factors\u001b[0m\u001b[0;34m)\u001b[0m\u001b[0;34m:\u001b[0m\u001b[0;34m\u001b[0m\u001b[0;34m\u001b[0m\u001b[0m\n\u001b[1;32m     93\u001b[0m         \u001b[0;32mif\u001b[0m \u001b[0msort_factors\u001b[0m\u001b[0;34m:\u001b[0m\u001b[0;34m\u001b[0m\u001b[0;34m\u001b[0m\u001b[0m\n\u001b[0;32m---> 94\u001b[0;31m             \u001b[0morder_factors\u001b[0m \u001b[0;34m=\u001b[0m \u001b[0mnp\u001b[0m\u001b[0;34m.\u001b[0m\u001b[0margsort\u001b[0m\u001b[0;34m(\u001b[0m \u001b[0mnp\u001b[0m\u001b[0;34m.\u001b[0m\u001b[0marray\u001b[0m\u001b[0;34m(\u001b[0m\u001b[0mself\u001b[0m\u001b[0;34m.\u001b[0m\u001b[0mr2\u001b[0m\u001b[0;34m)\u001b[0m\u001b[0;34m.\u001b[0m\u001b[0msum\u001b[0m\u001b[0;34m(\u001b[0m\u001b[0maxis\u001b[0m\u001b[0;34m=\u001b[0m\u001b[0;34m(\u001b[0m\u001b[0;36m0\u001b[0m\u001b[0;34m,\u001b[0m\u001b[0;36m1\u001b[0m\u001b[0;34m)\u001b[0m\u001b[0;34m,\u001b[0m \u001b[0mwhere\u001b[0m\u001b[0;34m=\u001b[0m \u001b[0;34m~\u001b[0m\u001b[0mnp\u001b[0m\u001b[0;34m.\u001b[0m\u001b[0misnan\u001b[0m\u001b[0;34m(\u001b[0m\u001b[0mnp\u001b[0m\u001b[0;34m.\u001b[0m\u001b[0marray\u001b[0m\u001b[0;34m(\u001b[0m\u001b[0mself\u001b[0m\u001b[0;34m.\u001b[0m\u001b[0mr2\u001b[0m\u001b[0;34m)\u001b[0m\u001b[0;34m)\u001b[0m\u001b[0;34m)\u001b[0m \u001b[0;34m)\u001b[0m\u001b[0;34m[\u001b[0m\u001b[0;34m:\u001b[0m\u001b[0;34m:\u001b[0m\u001b[0;34m-\u001b[0m\u001b[0;36m1\u001b[0m\u001b[0;34m]\u001b[0m\u001b[0;34m\u001b[0m\u001b[0;34m\u001b[0m\u001b[0m\n\u001b[0m\u001b[1;32m     95\u001b[0m             \u001b[0mself\u001b[0m\u001b[0;34m.\u001b[0m\u001b[0mr2\u001b[0m \u001b[0;34m=\u001b[0m \u001b[0;34m[\u001b[0m\u001b[0mx\u001b[0m\u001b[0;34m[\u001b[0m\u001b[0;34m:\u001b[0m\u001b[0;34m,\u001b[0m\u001b[0morder_factors\u001b[0m\u001b[0;34m]\u001b[0m \u001b[0;32mfor\u001b[0m \u001b[0mx\u001b[0m \u001b[0;32min\u001b[0m \u001b[0mself\u001b[0m\u001b[0;34m.\u001b[0m\u001b[0mr2\u001b[0m\u001b[0;34m]\u001b[0m\u001b[0;34m\u001b[0m\u001b[0;34m\u001b[0m\u001b[0m\n\u001b[1;32m     96\u001b[0m         \u001b[0;32melse\u001b[0m\u001b[0;34m:\u001b[0m\u001b[0;34m\u001b[0m\u001b[0;34m\u001b[0m\u001b[0m\n",
      "\u001b[0;31mTypeError\u001b[0m: _sum() got an unexpected keyword argument 'where'"
     ]
    }
   ],
   "source": [
    "ent.build()\n",
    "start=time.time()\n",
    "ent.run()\n",
    "end=time.time()\n",
    "# Save the output\n",
    "ent.save(outfile='./MOFAmodels/tmp.hdf5')"
   ]
  },
  {
   "cell_type": "code",
   "execution_count": 20,
   "id": "894dab17",
   "metadata": {},
   "outputs": [
    {
     "data": {
      "text/plain": [
       "1771.0391368865967"
      ]
     },
     "execution_count": 20,
     "metadata": {},
     "output_type": "execute_result"
    }
   ],
   "source": [
    "end-start"
   ]
  },
  {
   "cell_type": "code",
   "execution_count": 28,
   "id": "8a41faca",
   "metadata": {},
   "outputs": [],
   "source": [
    "import h5py"
   ]
  },
  {
   "cell_type": "code",
   "execution_count": 29,
   "id": "3e519c6b",
   "metadata": {},
   "outputs": [],
   "source": [
    "f = h5py.File(\"./MOFAmodels/sci-CAR_entire.hdf5\", \"r\")"
   ]
  },
  {
   "cell_type": "code",
   "execution_count": 30,
   "id": "dadd6e65",
   "metadata": {},
   "outputs": [
    {
     "data": {
      "text/plain": [
       "<KeysViewHDF5 []>"
      ]
     },
     "execution_count": 30,
     "metadata": {},
     "output_type": "execute_result"
    }
   ],
   "source": [
    "f.keys()"
   ]
  },
  {
   "cell_type": "code",
   "execution_count": 31,
   "id": "b3cb0eed",
   "metadata": {},
   "outputs": [
    {
     "ename": "KeyError",
     "evalue": "\"Unable to open object (object 'expectations' doesn't exist)\"",
     "output_type": "error",
     "traceback": [
      "\u001b[0;31m---------------------------------------------------------------------------\u001b[0m",
      "\u001b[0;31mKeyError\u001b[0m                                  Traceback (most recent call last)",
      "\u001b[0;32m<ipython-input-31-f452d74b863c>\u001b[0m in \u001b[0;36m<module>\u001b[0;34m\u001b[0m\n\u001b[0;32m----> 1\u001b[0;31m \u001b[0mf\u001b[0m\u001b[0;34m[\u001b[0m\u001b[0;34m'expectations'\u001b[0m\u001b[0;34m]\u001b[0m\u001b[0;34m.\u001b[0m\u001b[0mkeys\u001b[0m\u001b[0;34m(\u001b[0m\u001b[0;34m)\u001b[0m\u001b[0;34m\u001b[0m\u001b[0;34m\u001b[0m\u001b[0m\n\u001b[0m",
      "\u001b[0;32mh5py/_objects.pyx\u001b[0m in \u001b[0;36mh5py._objects.with_phil.wrapper\u001b[0;34m()\u001b[0m\n",
      "\u001b[0;32mh5py/_objects.pyx\u001b[0m in \u001b[0;36mh5py._objects.with_phil.wrapper\u001b[0;34m()\u001b[0m\n",
      "\u001b[0;32m~/.local/lib/python3.6/site-packages/h5py/_hl/group.py\u001b[0m in \u001b[0;36m__getitem__\u001b[0;34m(self, name)\u001b[0m\n\u001b[1;32m    286\u001b[0m                 \u001b[0;32mraise\u001b[0m \u001b[0mValueError\u001b[0m\u001b[0;34m(\u001b[0m\u001b[0;34m\"Invalid HDF5 object reference\"\u001b[0m\u001b[0;34m)\u001b[0m\u001b[0;34m\u001b[0m\u001b[0;34m\u001b[0m\u001b[0m\n\u001b[1;32m    287\u001b[0m         \u001b[0;32melse\u001b[0m\u001b[0;34m:\u001b[0m\u001b[0;34m\u001b[0m\u001b[0;34m\u001b[0m\u001b[0m\n\u001b[0;32m--> 288\u001b[0;31m             \u001b[0moid\u001b[0m \u001b[0;34m=\u001b[0m \u001b[0mh5o\u001b[0m\u001b[0;34m.\u001b[0m\u001b[0mopen\u001b[0m\u001b[0;34m(\u001b[0m\u001b[0mself\u001b[0m\u001b[0;34m.\u001b[0m\u001b[0mid\u001b[0m\u001b[0;34m,\u001b[0m \u001b[0mself\u001b[0m\u001b[0;34m.\u001b[0m\u001b[0m_e\u001b[0m\u001b[0;34m(\u001b[0m\u001b[0mname\u001b[0m\u001b[0;34m)\u001b[0m\u001b[0;34m,\u001b[0m \u001b[0mlapl\u001b[0m\u001b[0;34m=\u001b[0m\u001b[0mself\u001b[0m\u001b[0;34m.\u001b[0m\u001b[0m_lapl\u001b[0m\u001b[0;34m)\u001b[0m\u001b[0;34m\u001b[0m\u001b[0;34m\u001b[0m\u001b[0m\n\u001b[0m\u001b[1;32m    289\u001b[0m \u001b[0;34m\u001b[0m\u001b[0m\n\u001b[1;32m    290\u001b[0m         \u001b[0motype\u001b[0m \u001b[0;34m=\u001b[0m \u001b[0mh5i\u001b[0m\u001b[0;34m.\u001b[0m\u001b[0mget_type\u001b[0m\u001b[0;34m(\u001b[0m\u001b[0moid\u001b[0m\u001b[0;34m)\u001b[0m\u001b[0;34m\u001b[0m\u001b[0;34m\u001b[0m\u001b[0m\n",
      "\u001b[0;32mh5py/_objects.pyx\u001b[0m in \u001b[0;36mh5py._objects.with_phil.wrapper\u001b[0;34m()\u001b[0m\n",
      "\u001b[0;32mh5py/_objects.pyx\u001b[0m in \u001b[0;36mh5py._objects.with_phil.wrapper\u001b[0;34m()\u001b[0m\n",
      "\u001b[0;32mh5py/h5o.pyx\u001b[0m in \u001b[0;36mh5py.h5o.open\u001b[0;34m()\u001b[0m\n",
      "\u001b[0;31mKeyError\u001b[0m: \"Unable to open object (object 'expectations' doesn't exist)\""
     ]
    }
   ],
   "source": [
    "f['expectations'].keys()"
   ]
  },
  {
   "cell_type": "code",
   "execution_count": 32,
   "id": "24cbb55f",
   "metadata": {},
   "outputs": [
    {
     "ename": "KeyError",
     "evalue": "\"Unable to open object (object 'expectations' doesn't exist)\"",
     "output_type": "error",
     "traceback": [
      "\u001b[0;31m---------------------------------------------------------------------------\u001b[0m",
      "\u001b[0;31mKeyError\u001b[0m                                  Traceback (most recent call last)",
      "\u001b[0;32m<ipython-input-32-18e5db7c886d>\u001b[0m in \u001b[0;36m<module>\u001b[0;34m\u001b[0m\n\u001b[0;32m----> 1\u001b[0;31m \u001b[0mf\u001b[0m\u001b[0;34m[\u001b[0m\u001b[0;34m'expectations'\u001b[0m\u001b[0;34m]\u001b[0m\u001b[0;34m[\u001b[0m\u001b[0;34m'W'\u001b[0m\u001b[0;34m]\u001b[0m\u001b[0;34m.\u001b[0m\u001b[0mkeys\u001b[0m\u001b[0;34m(\u001b[0m\u001b[0;34m)\u001b[0m\u001b[0;34m\u001b[0m\u001b[0;34m\u001b[0m\u001b[0m\n\u001b[0m",
      "\u001b[0;32mh5py/_objects.pyx\u001b[0m in \u001b[0;36mh5py._objects.with_phil.wrapper\u001b[0;34m()\u001b[0m\n",
      "\u001b[0;32mh5py/_objects.pyx\u001b[0m in \u001b[0;36mh5py._objects.with_phil.wrapper\u001b[0;34m()\u001b[0m\n",
      "\u001b[0;32m~/.local/lib/python3.6/site-packages/h5py/_hl/group.py\u001b[0m in \u001b[0;36m__getitem__\u001b[0;34m(self, name)\u001b[0m\n\u001b[1;32m    286\u001b[0m                 \u001b[0;32mraise\u001b[0m \u001b[0mValueError\u001b[0m\u001b[0;34m(\u001b[0m\u001b[0;34m\"Invalid HDF5 object reference\"\u001b[0m\u001b[0;34m)\u001b[0m\u001b[0;34m\u001b[0m\u001b[0;34m\u001b[0m\u001b[0m\n\u001b[1;32m    287\u001b[0m         \u001b[0;32melse\u001b[0m\u001b[0;34m:\u001b[0m\u001b[0;34m\u001b[0m\u001b[0;34m\u001b[0m\u001b[0m\n\u001b[0;32m--> 288\u001b[0;31m             \u001b[0moid\u001b[0m \u001b[0;34m=\u001b[0m \u001b[0mh5o\u001b[0m\u001b[0;34m.\u001b[0m\u001b[0mopen\u001b[0m\u001b[0;34m(\u001b[0m\u001b[0mself\u001b[0m\u001b[0;34m.\u001b[0m\u001b[0mid\u001b[0m\u001b[0;34m,\u001b[0m \u001b[0mself\u001b[0m\u001b[0;34m.\u001b[0m\u001b[0m_e\u001b[0m\u001b[0;34m(\u001b[0m\u001b[0mname\u001b[0m\u001b[0;34m)\u001b[0m\u001b[0;34m,\u001b[0m \u001b[0mlapl\u001b[0m\u001b[0;34m=\u001b[0m\u001b[0mself\u001b[0m\u001b[0;34m.\u001b[0m\u001b[0m_lapl\u001b[0m\u001b[0;34m)\u001b[0m\u001b[0;34m\u001b[0m\u001b[0;34m\u001b[0m\u001b[0m\n\u001b[0m\u001b[1;32m    289\u001b[0m \u001b[0;34m\u001b[0m\u001b[0m\n\u001b[1;32m    290\u001b[0m         \u001b[0motype\u001b[0m \u001b[0;34m=\u001b[0m \u001b[0mh5i\u001b[0m\u001b[0;34m.\u001b[0m\u001b[0mget_type\u001b[0m\u001b[0;34m(\u001b[0m\u001b[0moid\u001b[0m\u001b[0;34m)\u001b[0m\u001b[0;34m\u001b[0m\u001b[0;34m\u001b[0m\u001b[0m\n",
      "\u001b[0;32mh5py/_objects.pyx\u001b[0m in \u001b[0;36mh5py._objects.with_phil.wrapper\u001b[0;34m()\u001b[0m\n",
      "\u001b[0;32mh5py/_objects.pyx\u001b[0m in \u001b[0;36mh5py._objects.with_phil.wrapper\u001b[0;34m()\u001b[0m\n",
      "\u001b[0;32mh5py/h5o.pyx\u001b[0m in \u001b[0;36mh5py.h5o.open\u001b[0;34m()\u001b[0m\n",
      "\u001b[0;31mKeyError\u001b[0m: \"Unable to open object (object 'expectations' doesn't exist)\""
     ]
    }
   ],
   "source": [
    "f['expectations']['W'].keys()"
   ]
  },
  {
   "cell_type": "code",
   "execution_count": null,
   "id": "67138431",
   "metadata": {},
   "outputs": [],
   "source": [
    "f['expectations']['W']['view0']"
   ]
  },
  {
   "cell_type": "code",
   "execution_count": null,
   "id": "1ece2542",
   "metadata": {},
   "outputs": [],
   "source": [
    "f['expectations']['W']['view1']"
   ]
  },
  {
   "cell_type": "code",
   "execution_count": null,
   "id": "000456d4",
   "metadata": {},
   "outputs": [],
   "source": [
    "f['expectations']['Z'].keys()"
   ]
  },
  {
   "cell_type": "code",
   "execution_count": null,
   "id": "9a065ddd",
   "metadata": {},
   "outputs": [],
   "source": [
    "f['expectations']['Z']['group0']"
   ]
  },
  {
   "cell_type": "code",
   "execution_count": null,
   "id": "caecb2e2",
   "metadata": {},
   "outputs": [],
   "source": [
    "rna=np.array(f['data']['view0']['group0'])"
   ]
  },
  {
   "cell_type": "code",
   "execution_count": null,
   "id": "453394c9",
   "metadata": {},
   "outputs": [],
   "source": [
    "atac=np.array(f['data']['view1']['group0'])"
   ]
  },
  {
   "cell_type": "code",
   "execution_count": null,
   "id": "294ef462",
   "metadata": {},
   "outputs": [],
   "source": [
    "rna_W=np.array(f['expectations']['W']['view0'])"
   ]
  },
  {
   "cell_type": "code",
   "execution_count": null,
   "id": "7d40be06",
   "metadata": {},
   "outputs": [],
   "source": [
    "atac_W=np.array(f['expectations']['W']['view1'])"
   ]
  },
  {
   "cell_type": "code",
   "execution_count": null,
   "id": "0daabfa2",
   "metadata": {},
   "outputs": [],
   "source": [
    "rna_emb=np.dot(rna,rna_W.transpose())"
   ]
  },
  {
   "cell_type": "code",
   "execution_count": null,
   "id": "2bd8ad15",
   "metadata": {},
   "outputs": [],
   "source": [
    "rna_emb.shape"
   ]
  },
  {
   "cell_type": "code",
   "execution_count": null,
   "id": "b477a5e2",
   "metadata": {},
   "outputs": [],
   "source": [
    "atac_emb=np.dot(atac,atac_W.transpose())"
   ]
  },
  {
   "cell_type": "code",
   "execution_count": null,
   "id": "56d785d1",
   "metadata": {},
   "outputs": [],
   "source": [
    "pd.DataFrame(rna_emb).to_csv('mofa_sci-CAR_rna_emb.csv')\n",
    "pd.DataFrame(atac_emb).to_csv('mofa_sci-CAR_atac_emb.csv')"
   ]
  },
  {
   "cell_type": "code",
   "execution_count": 367,
   "id": "cbeedb47",
   "metadata": {},
   "outputs": [],
   "source": [
    "def mink(arraylist,k):\n",
    "    minlist=[]\n",
    "    minlist_id=list(range(0,k))\n",
    "    m=[minlist,minlist_id]\n",
    "    for i in minlist_id:\n",
    "        minlist.append(arraylist[i])\n",
    "    for i in range(k,len(arraylist)):\n",
    "        if arraylist[i]<max(minlist):\n",
    "            mm=minlist.index(max(minlist))\n",
    "            del m[0][mm]\n",
    "            del m[1][mm]\n",
    "            m[0].append(arraylist[i])\n",
    "            m[1].append(i)\n",
    "    return minlist_id\n",
    "def find_mutual_nn(data1, data2, k1, k2, n_jobs):\n",
    "     k_index_1 = cKDTree(data1).query(x=data2, k=k1, workers=n_jobs)[1]\n",
    "     k_index_2 = cKDTree(data2).query(x=data1, k=k2, workers=n_jobs)[1]\n",
    "     #print(k_index_1)\n",
    "     #print(k_index_2)\n",
    "     mutual_1 = []\n",
    "     mutual_2 = []\n",
    "     sum=0\n",
    "     for index_2 in range(data2.shape[0]):\n",
    "         for index_1 in k_index_1[index_2]:\n",
    "             if index_2 in k_index_2[index_1]:\n",
    "                 mutual_1.append(index_1)\n",
    "                 mutual_2.append(index_2)\n",
    "                 if index_1==index_2:\n",
    "                   sum+=1\n",
    "     return sum\n"
   ]
  },
  {
   "cell_type": "code",
   "execution_count": 368,
   "id": "13040215",
   "metadata": {},
   "outputs": [],
   "source": [
    "type1=pd.read_csv('~/major_revision/RNA-Seq-and-ATAC-Seq-mapping/data/SHARE/label.csv', index_col=0).values"
   ]
  },
  {
   "cell_type": "code",
   "execution_count": 369,
   "id": "3c00532c",
   "metadata": {},
   "outputs": [
    {
     "ename": "FileNotFoundError",
     "evalue": "[Errno 2] No such file or directory: 'mofa_share_rna_emb.csv'",
     "output_type": "error",
     "traceback": [
      "\u001b[0;31m---------------------------------------------------------------------------\u001b[0m",
      "\u001b[0;31mFileNotFoundError\u001b[0m                         Traceback (most recent call last)",
      "Cell \u001b[0;32mIn[369], line 1\u001b[0m\n\u001b[0;32m----> 1\u001b[0m rna_emb\u001b[38;5;241m=\u001b[39m\u001b[43mpd\u001b[49m\u001b[38;5;241;43m.\u001b[39;49m\u001b[43mread_csv\u001b[49m\u001b[43m(\u001b[49m\u001b[38;5;124;43m'\u001b[39;49m\u001b[38;5;124;43mmofa_share_rna_emb.csv\u001b[39;49m\u001b[38;5;124;43m'\u001b[39;49m\u001b[43m,\u001b[49m\u001b[43mindex_col\u001b[49m\u001b[38;5;241;43m=\u001b[39;49m\u001b[38;5;241;43m0\u001b[39;49m\u001b[43m)\u001b[49m\u001b[38;5;241m.\u001b[39mvalues\n\u001b[1;32m      2\u001b[0m atac_emb\u001b[38;5;241m=\u001b[39mpd\u001b[38;5;241m.\u001b[39mread_csv(\u001b[38;5;124m'\u001b[39m\u001b[38;5;124mmofa_share_atac_emb.csv\u001b[39m\u001b[38;5;124m'\u001b[39m,index_col\u001b[38;5;241m=\u001b[39m\u001b[38;5;241m0\u001b[39m)\u001b[38;5;241m.\u001b[39mvalues\n",
      "File \u001b[0;32m~/.conda/envs/mofa/lib/python3.8/site-packages/pandas/util/_decorators.py:211\u001b[0m, in \u001b[0;36mdeprecate_kwarg.<locals>._deprecate_kwarg.<locals>.wrapper\u001b[0;34m(*args, **kwargs)\u001b[0m\n\u001b[1;32m    209\u001b[0m     \u001b[38;5;28;01melse\u001b[39;00m:\n\u001b[1;32m    210\u001b[0m         kwargs[new_arg_name] \u001b[38;5;241m=\u001b[39m new_arg_value\n\u001b[0;32m--> 211\u001b[0m \u001b[38;5;28;01mreturn\u001b[39;00m \u001b[43mfunc\u001b[49m\u001b[43m(\u001b[49m\u001b[38;5;241;43m*\u001b[39;49m\u001b[43margs\u001b[49m\u001b[43m,\u001b[49m\u001b[43m \u001b[49m\u001b[38;5;241;43m*\u001b[39;49m\u001b[38;5;241;43m*\u001b[39;49m\u001b[43mkwargs\u001b[49m\u001b[43m)\u001b[49m\n",
      "File \u001b[0;32m~/.conda/envs/mofa/lib/python3.8/site-packages/pandas/util/_decorators.py:331\u001b[0m, in \u001b[0;36mdeprecate_nonkeyword_arguments.<locals>.decorate.<locals>.wrapper\u001b[0;34m(*args, **kwargs)\u001b[0m\n\u001b[1;32m    325\u001b[0m \u001b[38;5;28;01mif\u001b[39;00m \u001b[38;5;28mlen\u001b[39m(args) \u001b[38;5;241m>\u001b[39m num_allow_args:\n\u001b[1;32m    326\u001b[0m     warnings\u001b[38;5;241m.\u001b[39mwarn(\n\u001b[1;32m    327\u001b[0m         msg\u001b[38;5;241m.\u001b[39mformat(arguments\u001b[38;5;241m=\u001b[39m_format_argument_list(allow_args)),\n\u001b[1;32m    328\u001b[0m         \u001b[38;5;167;01mFutureWarning\u001b[39;00m,\n\u001b[1;32m    329\u001b[0m         stacklevel\u001b[38;5;241m=\u001b[39mfind_stack_level(),\n\u001b[1;32m    330\u001b[0m     )\n\u001b[0;32m--> 331\u001b[0m \u001b[38;5;28;01mreturn\u001b[39;00m \u001b[43mfunc\u001b[49m\u001b[43m(\u001b[49m\u001b[38;5;241;43m*\u001b[39;49m\u001b[43margs\u001b[49m\u001b[43m,\u001b[49m\u001b[43m \u001b[49m\u001b[38;5;241;43m*\u001b[39;49m\u001b[38;5;241;43m*\u001b[39;49m\u001b[43mkwargs\u001b[49m\u001b[43m)\u001b[49m\n",
      "File \u001b[0;32m~/.conda/envs/mofa/lib/python3.8/site-packages/pandas/io/parsers/readers.py:950\u001b[0m, in \u001b[0;36mread_csv\u001b[0;34m(filepath_or_buffer, sep, delimiter, header, names, index_col, usecols, squeeze, prefix, mangle_dupe_cols, dtype, engine, converters, true_values, false_values, skipinitialspace, skiprows, skipfooter, nrows, na_values, keep_default_na, na_filter, verbose, skip_blank_lines, parse_dates, infer_datetime_format, keep_date_col, date_parser, dayfirst, cache_dates, iterator, chunksize, compression, thousands, decimal, lineterminator, quotechar, quoting, doublequote, escapechar, comment, encoding, encoding_errors, dialect, error_bad_lines, warn_bad_lines, on_bad_lines, delim_whitespace, low_memory, memory_map, float_precision, storage_options)\u001b[0m\n\u001b[1;32m    935\u001b[0m kwds_defaults \u001b[38;5;241m=\u001b[39m _refine_defaults_read(\n\u001b[1;32m    936\u001b[0m     dialect,\n\u001b[1;32m    937\u001b[0m     delimiter,\n\u001b[0;32m   (...)\u001b[0m\n\u001b[1;32m    946\u001b[0m     defaults\u001b[38;5;241m=\u001b[39m{\u001b[38;5;124m\"\u001b[39m\u001b[38;5;124mdelimiter\u001b[39m\u001b[38;5;124m\"\u001b[39m: \u001b[38;5;124m\"\u001b[39m\u001b[38;5;124m,\u001b[39m\u001b[38;5;124m\"\u001b[39m},\n\u001b[1;32m    947\u001b[0m )\n\u001b[1;32m    948\u001b[0m kwds\u001b[38;5;241m.\u001b[39mupdate(kwds_defaults)\n\u001b[0;32m--> 950\u001b[0m \u001b[38;5;28;01mreturn\u001b[39;00m \u001b[43m_read\u001b[49m\u001b[43m(\u001b[49m\u001b[43mfilepath_or_buffer\u001b[49m\u001b[43m,\u001b[49m\u001b[43m \u001b[49m\u001b[43mkwds\u001b[49m\u001b[43m)\u001b[49m\n",
      "File \u001b[0;32m~/.conda/envs/mofa/lib/python3.8/site-packages/pandas/io/parsers/readers.py:605\u001b[0m, in \u001b[0;36m_read\u001b[0;34m(filepath_or_buffer, kwds)\u001b[0m\n\u001b[1;32m    602\u001b[0m _validate_names(kwds\u001b[38;5;241m.\u001b[39mget(\u001b[38;5;124m\"\u001b[39m\u001b[38;5;124mnames\u001b[39m\u001b[38;5;124m\"\u001b[39m, \u001b[38;5;28;01mNone\u001b[39;00m))\n\u001b[1;32m    604\u001b[0m \u001b[38;5;66;03m# Create the parser.\u001b[39;00m\n\u001b[0;32m--> 605\u001b[0m parser \u001b[38;5;241m=\u001b[39m \u001b[43mTextFileReader\u001b[49m\u001b[43m(\u001b[49m\u001b[43mfilepath_or_buffer\u001b[49m\u001b[43m,\u001b[49m\u001b[43m \u001b[49m\u001b[38;5;241;43m*\u001b[39;49m\u001b[38;5;241;43m*\u001b[39;49m\u001b[43mkwds\u001b[49m\u001b[43m)\u001b[49m\n\u001b[1;32m    607\u001b[0m \u001b[38;5;28;01mif\u001b[39;00m chunksize \u001b[38;5;129;01mor\u001b[39;00m iterator:\n\u001b[1;32m    608\u001b[0m     \u001b[38;5;28;01mreturn\u001b[39;00m parser\n",
      "File \u001b[0;32m~/.conda/envs/mofa/lib/python3.8/site-packages/pandas/io/parsers/readers.py:1442\u001b[0m, in \u001b[0;36mTextFileReader.__init__\u001b[0;34m(self, f, engine, **kwds)\u001b[0m\n\u001b[1;32m   1439\u001b[0m     \u001b[38;5;28mself\u001b[39m\u001b[38;5;241m.\u001b[39moptions[\u001b[38;5;124m\"\u001b[39m\u001b[38;5;124mhas_index_names\u001b[39m\u001b[38;5;124m\"\u001b[39m] \u001b[38;5;241m=\u001b[39m kwds[\u001b[38;5;124m\"\u001b[39m\u001b[38;5;124mhas_index_names\u001b[39m\u001b[38;5;124m\"\u001b[39m]\n\u001b[1;32m   1441\u001b[0m \u001b[38;5;28mself\u001b[39m\u001b[38;5;241m.\u001b[39mhandles: IOHandles \u001b[38;5;241m|\u001b[39m \u001b[38;5;28;01mNone\u001b[39;00m \u001b[38;5;241m=\u001b[39m \u001b[38;5;28;01mNone\u001b[39;00m\n\u001b[0;32m-> 1442\u001b[0m \u001b[38;5;28mself\u001b[39m\u001b[38;5;241m.\u001b[39m_engine \u001b[38;5;241m=\u001b[39m \u001b[38;5;28;43mself\u001b[39;49m\u001b[38;5;241;43m.\u001b[39;49m\u001b[43m_make_engine\u001b[49m\u001b[43m(\u001b[49m\u001b[43mf\u001b[49m\u001b[43m,\u001b[49m\u001b[43m \u001b[49m\u001b[38;5;28;43mself\u001b[39;49m\u001b[38;5;241;43m.\u001b[39;49m\u001b[43mengine\u001b[49m\u001b[43m)\u001b[49m\n",
      "File \u001b[0;32m~/.conda/envs/mofa/lib/python3.8/site-packages/pandas/io/parsers/readers.py:1735\u001b[0m, in \u001b[0;36mTextFileReader._make_engine\u001b[0;34m(self, f, engine)\u001b[0m\n\u001b[1;32m   1733\u001b[0m     \u001b[38;5;28;01mif\u001b[39;00m \u001b[38;5;124m\"\u001b[39m\u001b[38;5;124mb\u001b[39m\u001b[38;5;124m\"\u001b[39m \u001b[38;5;129;01mnot\u001b[39;00m \u001b[38;5;129;01min\u001b[39;00m mode:\n\u001b[1;32m   1734\u001b[0m         mode \u001b[38;5;241m+\u001b[39m\u001b[38;5;241m=\u001b[39m \u001b[38;5;124m\"\u001b[39m\u001b[38;5;124mb\u001b[39m\u001b[38;5;124m\"\u001b[39m\n\u001b[0;32m-> 1735\u001b[0m \u001b[38;5;28mself\u001b[39m\u001b[38;5;241m.\u001b[39mhandles \u001b[38;5;241m=\u001b[39m \u001b[43mget_handle\u001b[49m\u001b[43m(\u001b[49m\n\u001b[1;32m   1736\u001b[0m \u001b[43m    \u001b[49m\u001b[43mf\u001b[49m\u001b[43m,\u001b[49m\n\u001b[1;32m   1737\u001b[0m \u001b[43m    \u001b[49m\u001b[43mmode\u001b[49m\u001b[43m,\u001b[49m\n\u001b[1;32m   1738\u001b[0m \u001b[43m    \u001b[49m\u001b[43mencoding\u001b[49m\u001b[38;5;241;43m=\u001b[39;49m\u001b[38;5;28;43mself\u001b[39;49m\u001b[38;5;241;43m.\u001b[39;49m\u001b[43moptions\u001b[49m\u001b[38;5;241;43m.\u001b[39;49m\u001b[43mget\u001b[49m\u001b[43m(\u001b[49m\u001b[38;5;124;43m\"\u001b[39;49m\u001b[38;5;124;43mencoding\u001b[39;49m\u001b[38;5;124;43m\"\u001b[39;49m\u001b[43m,\u001b[49m\u001b[43m \u001b[49m\u001b[38;5;28;43;01mNone\u001b[39;49;00m\u001b[43m)\u001b[49m\u001b[43m,\u001b[49m\n\u001b[1;32m   1739\u001b[0m \u001b[43m    \u001b[49m\u001b[43mcompression\u001b[49m\u001b[38;5;241;43m=\u001b[39;49m\u001b[38;5;28;43mself\u001b[39;49m\u001b[38;5;241;43m.\u001b[39;49m\u001b[43moptions\u001b[49m\u001b[38;5;241;43m.\u001b[39;49m\u001b[43mget\u001b[49m\u001b[43m(\u001b[49m\u001b[38;5;124;43m\"\u001b[39;49m\u001b[38;5;124;43mcompression\u001b[39;49m\u001b[38;5;124;43m\"\u001b[39;49m\u001b[43m,\u001b[49m\u001b[43m \u001b[49m\u001b[38;5;28;43;01mNone\u001b[39;49;00m\u001b[43m)\u001b[49m\u001b[43m,\u001b[49m\n\u001b[1;32m   1740\u001b[0m \u001b[43m    \u001b[49m\u001b[43mmemory_map\u001b[49m\u001b[38;5;241;43m=\u001b[39;49m\u001b[38;5;28;43mself\u001b[39;49m\u001b[38;5;241;43m.\u001b[39;49m\u001b[43moptions\u001b[49m\u001b[38;5;241;43m.\u001b[39;49m\u001b[43mget\u001b[49m\u001b[43m(\u001b[49m\u001b[38;5;124;43m\"\u001b[39;49m\u001b[38;5;124;43mmemory_map\u001b[39;49m\u001b[38;5;124;43m\"\u001b[39;49m\u001b[43m,\u001b[49m\u001b[43m \u001b[49m\u001b[38;5;28;43;01mFalse\u001b[39;49;00m\u001b[43m)\u001b[49m\u001b[43m,\u001b[49m\n\u001b[1;32m   1741\u001b[0m \u001b[43m    \u001b[49m\u001b[43mis_text\u001b[49m\u001b[38;5;241;43m=\u001b[39;49m\u001b[43mis_text\u001b[49m\u001b[43m,\u001b[49m\n\u001b[1;32m   1742\u001b[0m \u001b[43m    \u001b[49m\u001b[43merrors\u001b[49m\u001b[38;5;241;43m=\u001b[39;49m\u001b[38;5;28;43mself\u001b[39;49m\u001b[38;5;241;43m.\u001b[39;49m\u001b[43moptions\u001b[49m\u001b[38;5;241;43m.\u001b[39;49m\u001b[43mget\u001b[49m\u001b[43m(\u001b[49m\u001b[38;5;124;43m\"\u001b[39;49m\u001b[38;5;124;43mencoding_errors\u001b[39;49m\u001b[38;5;124;43m\"\u001b[39;49m\u001b[43m,\u001b[49m\u001b[43m \u001b[49m\u001b[38;5;124;43m\"\u001b[39;49m\u001b[38;5;124;43mstrict\u001b[39;49m\u001b[38;5;124;43m\"\u001b[39;49m\u001b[43m)\u001b[49m\u001b[43m,\u001b[49m\n\u001b[1;32m   1743\u001b[0m \u001b[43m    \u001b[49m\u001b[43mstorage_options\u001b[49m\u001b[38;5;241;43m=\u001b[39;49m\u001b[38;5;28;43mself\u001b[39;49m\u001b[38;5;241;43m.\u001b[39;49m\u001b[43moptions\u001b[49m\u001b[38;5;241;43m.\u001b[39;49m\u001b[43mget\u001b[49m\u001b[43m(\u001b[49m\u001b[38;5;124;43m\"\u001b[39;49m\u001b[38;5;124;43mstorage_options\u001b[39;49m\u001b[38;5;124;43m\"\u001b[39;49m\u001b[43m,\u001b[49m\u001b[43m \u001b[49m\u001b[38;5;28;43;01mNone\u001b[39;49;00m\u001b[43m)\u001b[49m\u001b[43m,\u001b[49m\n\u001b[1;32m   1744\u001b[0m \u001b[43m\u001b[49m\u001b[43m)\u001b[49m\n\u001b[1;32m   1745\u001b[0m \u001b[38;5;28;01massert\u001b[39;00m \u001b[38;5;28mself\u001b[39m\u001b[38;5;241m.\u001b[39mhandles \u001b[38;5;129;01mis\u001b[39;00m \u001b[38;5;129;01mnot\u001b[39;00m \u001b[38;5;28;01mNone\u001b[39;00m\n\u001b[1;32m   1746\u001b[0m f \u001b[38;5;241m=\u001b[39m \u001b[38;5;28mself\u001b[39m\u001b[38;5;241m.\u001b[39mhandles\u001b[38;5;241m.\u001b[39mhandle\n",
      "File \u001b[0;32m~/.conda/envs/mofa/lib/python3.8/site-packages/pandas/io/common.py:856\u001b[0m, in \u001b[0;36mget_handle\u001b[0;34m(path_or_buf, mode, encoding, compression, memory_map, is_text, errors, storage_options)\u001b[0m\n\u001b[1;32m    851\u001b[0m \u001b[38;5;28;01melif\u001b[39;00m \u001b[38;5;28misinstance\u001b[39m(handle, \u001b[38;5;28mstr\u001b[39m):\n\u001b[1;32m    852\u001b[0m     \u001b[38;5;66;03m# Check whether the filename is to be opened in binary mode.\u001b[39;00m\n\u001b[1;32m    853\u001b[0m     \u001b[38;5;66;03m# Binary mode does not support 'encoding' and 'newline'.\u001b[39;00m\n\u001b[1;32m    854\u001b[0m     \u001b[38;5;28;01mif\u001b[39;00m ioargs\u001b[38;5;241m.\u001b[39mencoding \u001b[38;5;129;01mand\u001b[39;00m \u001b[38;5;124m\"\u001b[39m\u001b[38;5;124mb\u001b[39m\u001b[38;5;124m\"\u001b[39m \u001b[38;5;129;01mnot\u001b[39;00m \u001b[38;5;129;01min\u001b[39;00m ioargs\u001b[38;5;241m.\u001b[39mmode:\n\u001b[1;32m    855\u001b[0m         \u001b[38;5;66;03m# Encoding\u001b[39;00m\n\u001b[0;32m--> 856\u001b[0m         handle \u001b[38;5;241m=\u001b[39m \u001b[38;5;28;43mopen\u001b[39;49m\u001b[43m(\u001b[49m\n\u001b[1;32m    857\u001b[0m \u001b[43m            \u001b[49m\u001b[43mhandle\u001b[49m\u001b[43m,\u001b[49m\n\u001b[1;32m    858\u001b[0m \u001b[43m            \u001b[49m\u001b[43mioargs\u001b[49m\u001b[38;5;241;43m.\u001b[39;49m\u001b[43mmode\u001b[49m\u001b[43m,\u001b[49m\n\u001b[1;32m    859\u001b[0m \u001b[43m            \u001b[49m\u001b[43mencoding\u001b[49m\u001b[38;5;241;43m=\u001b[39;49m\u001b[43mioargs\u001b[49m\u001b[38;5;241;43m.\u001b[39;49m\u001b[43mencoding\u001b[49m\u001b[43m,\u001b[49m\n\u001b[1;32m    860\u001b[0m \u001b[43m            \u001b[49m\u001b[43merrors\u001b[49m\u001b[38;5;241;43m=\u001b[39;49m\u001b[43merrors\u001b[49m\u001b[43m,\u001b[49m\n\u001b[1;32m    861\u001b[0m \u001b[43m            \u001b[49m\u001b[43mnewline\u001b[49m\u001b[38;5;241;43m=\u001b[39;49m\u001b[38;5;124;43m\"\u001b[39;49m\u001b[38;5;124;43m\"\u001b[39;49m\u001b[43m,\u001b[49m\n\u001b[1;32m    862\u001b[0m \u001b[43m        \u001b[49m\u001b[43m)\u001b[49m\n\u001b[1;32m    863\u001b[0m     \u001b[38;5;28;01melse\u001b[39;00m:\n\u001b[1;32m    864\u001b[0m         \u001b[38;5;66;03m# Binary mode\u001b[39;00m\n\u001b[1;32m    865\u001b[0m         handle \u001b[38;5;241m=\u001b[39m \u001b[38;5;28mopen\u001b[39m(handle, ioargs\u001b[38;5;241m.\u001b[39mmode)\n",
      "\u001b[0;31mFileNotFoundError\u001b[0m: [Errno 2] No such file or directory: 'mofa_share_rna_emb.csv'"
     ]
    }
   ],
   "source": [
    "#rna_emb=pd.read_csv('mofa_share_rna_emb.csv',index_col=0).values\n",
    "#atac_emb=pd.read_csv('mofa_share_atac_emb.csv',index_col=0).values"
   ]
  },
  {
   "cell_type": "code",
   "execution_count": 370,
   "id": "59d0ac0e",
   "metadata": {},
   "outputs": [
    {
     "data": {
      "text/plain": [
       "(34774, 95)"
      ]
     },
     "execution_count": 370,
     "metadata": {},
     "output_type": "execute_result"
    }
   ],
   "source": [
    "rna_emb.shape"
   ]
  },
  {
   "cell_type": "code",
   "execution_count": 371,
   "id": "ca3a41cc",
   "metadata": {},
   "outputs": [
    {
     "name": "stdout",
     "output_type": "stream",
     "text": [
      "0.0002875711738655317\n",
      "0.0005751423477310634\n",
      "0.0009202277563697015\n",
      "0.0011502846954621268\n",
      "0.0015528843388738713\n",
      "3.0\n",
      "0.13156381204348075\n"
     ]
    }
   ],
   "source": [
    "RNA_latent=rna_emb\n",
    "ATAC_latent=atac_emb\n",
    "cell_num=ATAC_latent.shape[0]\n",
    "pairlist=[]\n",
    "classlist=[]\n",
    "distlist=[]\n",
    "flag=np.zeros(cell_num)\n",
    "kright10=0\n",
    "kright20=0\n",
    "kright30=0\n",
    "kright40=0\n",
    "kright50=0\n",
    "    \n",
    "for index,i in enumerate(ATAC_latent):\n",
    "    mini=999999\n",
    "    minindex=0\n",
    "    distlist.clear()\n",
    "    for idx,j in enumerate(RNA_latent):\n",
    "        dist=np.linalg.norm(i-j)\n",
    "        distlist.append(dist)\n",
    "        if(dist<mini and flag[idx]==0):\n",
    "            mini=dist\n",
    "            minindex=idx\n",
    "    kindex10=mink(distlist,10)\n",
    "    kindex20=mink(distlist,20)\n",
    "    kindex30=mink(distlist,30)\n",
    "    kindex40=mink(distlist,40)\n",
    "    kindex50=mink(distlist,50)\n",
    "    if(index in kindex10):\n",
    "        kright10+=1\n",
    "    if(index in kindex20):\n",
    "        kright20+=1\n",
    "    if(index in kindex30):\n",
    "        kright30+=1\n",
    "    if(index in kindex40):\n",
    "        kright40+=1\n",
    "    if(index in kindex50):\n",
    "        kright50+=1\n",
    "    flag[minindex]=1\n",
    "    pairlist.append(minindex)\n",
    "    classlist.append(type1[minindex])\n",
    "    \n",
    "ATAC_seq=np.arange(0,cell_num,1)\n",
    "    \n",
    "    #print(len(pairlist))\n",
    "pairlist=np.array(pairlist)\n",
    "    \n",
    "    #print(flag)\n",
    "    \n",
    "classlist=np.array(classlist)\n",
    "    #print(pairlist)\n",
    "    #print(classlist)\n",
    "print(float(kright10)/cell_num)\n",
    "print(float(kright20)/cell_num)\n",
    "print(float(kright30)/cell_num)\n",
    "print(float(kright40)/cell_num)\n",
    "print(float(kright50)/cell_num)\n",
    "print(float(np.sum(pairlist==ATAC_seq)))\n",
    "print(float(np.sum(type1==classlist)/cell_num))"
   ]
  },
  {
   "cell_type": "code",
   "execution_count": 372,
   "id": "f92811ea",
   "metadata": {},
   "outputs": [
    {
     "data": {
      "text/plain": [
       "1"
      ]
     },
     "execution_count": 372,
     "metadata": {},
     "output_type": "execute_result"
    }
   ],
   "source": [
    "1"
   ]
  },
  {
   "cell_type": "code",
   "execution_count": null,
   "id": "94a96224",
   "metadata": {},
   "outputs": [],
   "source": []
  }
 ],
 "metadata": {
  "kernelspec": {
   "display_name": "cyclegan",
   "language": "python",
   "name": "pytorch-cyclegan-and-pix2pix"
  },
  "language_info": {
   "codemirror_mode": {
    "name": "ipython",
    "version": 3
   },
   "file_extension": ".py",
   "mimetype": "text/x-python",
   "name": "python",
   "nbconvert_exporter": "python",
   "pygments_lexer": "ipython3",
   "version": "3.6.13"
  }
 },
 "nbformat": 4,
 "nbformat_minor": 5
}
